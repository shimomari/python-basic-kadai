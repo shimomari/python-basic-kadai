{
  "nbformat": 4,
  "nbformat_minor": 0,
  "metadata": {
    "colab": {
      "provenance": [],
      "authorship_tag": "ABX9TyPfrf7qQPxQcakl7wdJoInt",
      "include_colab_link": true
    },
    "kernelspec": {
      "name": "python3",
      "display_name": "Python 3"
    },
    "language_info": {
      "name": "python"
    }
  },
  "cells": [
    {
      "cell_type": "markdown",
      "metadata": {
        "id": "view-in-github",
        "colab_type": "text"
      },
      "source": [
        "<a href=\"https://colab.research.google.com/github/shimomari/python-basic-kadai/blob/main/SAMURAI.ipynb\" target=\"_parent\"><img src=\"https://colab.research.google.com/assets/colab-badge.svg\" alt=\"Open In Colab\"/></a>"
      ]
    },
    {
      "cell_type": "code",
      "source": [
        "# Pythonの基本\n",
        "'''\n",
        " 書き方の基本ルール\n",
        " 文の最後にセミコロン（；）は不要\n",
        " 処理のまとまりは中かっこ｛｝で囲わず、インデントでまとめる\n",
        " コメントにはシャープ（#）またはクォーテーションを使う(クォーテンションは3つでセット、段落を挟む)\n",
        " '''\n",
        "\n",
        "age = 18 # 年齢\n",
        "\n",
        "if age < 20:\n",
        "    # 未成年の場合\n",
        "    print(\"ジュースで乾杯！\")\n",
        "else:\n",
        "    # 成年の場合\n",
        "    print(\"お酒で乾杯！\")\n"
      ],
      "metadata": {
        "id": "vW2Z_pXh8dZ1",
        "colab": {
          "base_uri": "https://localhost:8080/"
        },
        "outputId": "0351d0a0-d757-42e2-8805-26f56f908fc2"
      },
      "execution_count": null,
      "outputs": [
        {
          "output_type": "stream",
          "name": "stdout",
          "text": [
            "ジュースで乾杯！\n"
          ]
        }
      ]
    },
    {
      "cell_type": "code",
      "source": [],
      "metadata": {
        "id": "42kzu1MnSwF3"
      },
      "execution_count": null,
      "outputs": []
    },
    {
      "cell_type": "code",
      "source": [
        "print(1+1)\n"
      ],
      "metadata": {
        "id": "JX1QZxWE3OCv",
        "colab": {
          "base_uri": "https://localhost:8080/"
        },
        "outputId": "5e2be4c7-ceb5-46de-d5d1-6bc7e1df384d"
      },
      "execution_count": null,
      "outputs": [
        {
          "output_type": "stream",
          "name": "stdout",
          "text": [
            "2\n"
          ]
        }
      ]
    },
    {
      "cell_type": "code",
      "source": [
        "#　四則計算　整数\n",
        "\n",
        "print(45 + 18)\n",
        "print(30 - 12)\n",
        "print(15 * 6)\n",
        "print(30 / 3)\n",
        "print(45 % 8)\n"
      ],
      "metadata": {
        "colab": {
          "base_uri": "https://localhost:8080/"
        },
        "id": "uwRlJYpACxjM",
        "outputId": "25c837cf-0299-4fdf-b7d1-0942274b796d"
      },
      "execution_count": null,
      "outputs": [
        {
          "output_type": "stream",
          "name": "stdout",
          "text": [
            "63\n",
            "18\n",
            "90\n",
            "10.0\n",
            "5\n"
          ]
        }
      ]
    },
    {
      "cell_type": "code",
      "source": [
        "# 四則計算　整数と少数が混在\n",
        "\n",
        "\n",
        "print(45 + 1.8)\n",
        "print(3 - 1.2)\n",
        "print(15 * 0.6)\n",
        "print(3 / 0.3)\n",
        "print(45 % 0.8)\n"
      ],
      "metadata": {
        "colab": {
          "base_uri": "https://localhost:8080/"
        },
        "id": "zWxvumZXC4cD",
        "outputId": "c7314db2-1128-48e6-9e47-7cc99d6228ac"
      },
      "execution_count": null,
      "outputs": [
        {
          "output_type": "stream",
          "name": "stdout",
          "text": [
            "46.8\n",
            "1.8\n",
            "9.0\n",
            "10.0\n",
            "0.1999999999999975\n"
          ]
        }
      ]
    },
    {
      "cell_type": "code",
      "source": [
        "# 変数\n",
        "# データを代入（変数に値をセット）する時点で、データ型が決まる。\n",
        "\n",
        "user_name = \"侍太郎\"\n",
        "print (user_name)\n",
        "\n",
        "user_name =\"侍花子\"\n",
        "print (user_name)\n"
      ],
      "metadata": {
        "colab": {
          "base_uri": "https://localhost:8080/"
        },
        "id": "FUMW8hlHD6CW",
        "outputId": "7e23efed-22f9-4cb6-db98-97bfa91da692"
      },
      "execution_count": null,
      "outputs": [
        {
          "output_type": "stream",
          "name": "stdout",
          "text": [
            "侍太郎\n",
            "侍花子\n"
          ]
        }
      ]
    },
    {
      "cell_type": "code",
      "source": [
        "# 文字列の連結\n",
        "\n",
        "print(\"今日の天気は\" + \"晴れ\")\n",
        "print(\"今日の天気は\" \"曇り\")\n"
      ],
      "metadata": {
        "colab": {
          "base_uri": "https://localhost:8080/"
        },
        "id": "sKBCcV8NDCMA",
        "outputId": "e5d5ec3b-952a-4cb0-d9b4-b3882c792cfb"
      },
      "execution_count": null,
      "outputs": [
        {
          "output_type": "stream",
          "name": "stdout",
          "text": [
            "今日の天気は晴れ\n",
            "今日の天気は曇り\n"
          ]
        }
      ]
    },
    {
      "cell_type": "code",
      "execution_count": null,
      "metadata": {
        "colab": {
          "base_uri": "https://localhost:8080/"
        },
        "id": "t3KX-vd32rE_",
        "outputId": "116da9ca-0abf-435b-90a4-9c8d545eeab7"
      },
      "outputs": [
        {
          "output_type": "stream",
          "name": "stdout",
          "text": [
            "晴れ晴れ晴れ晴れ晴れ\n",
            "晴れ晴れ晴れ晴れ晴れ\n"
          ]
        }
      ],
      "source": [
        "# 同じ文字列を繰り返し連結する\n",
        "\n",
        "print(\"晴れ\" * 5)\n",
        "print(\"晴れ\" + \"晴れ\" + \"晴れ\" + \"晴れ\" + \"晴れ\")\n",
        "\n",
        "# 同じ文字列を連結する場合は、「*」を使えば文字列を繰り返せる\n"
      ]
    },
    {
      "cell_type": "code",
      "source": [
        "# 文字列と数値の連結\n",
        "\n",
        "print(\"降水確率\" + str(50) + \"％\" )\n",
        "\n",
        "\n",
        "#「50」という数値がstr関数により文字列に変換されて、前後の文字列と連結できた。\n",
        "# 文字列と数値を連結する場合は、str関数で数値を文字列に変換する必要がある\n"
      ],
      "metadata": {
        "colab": {
          "base_uri": "https://localhost:8080/"
        },
        "id": "UOya06QtCUPQ",
        "outputId": "d04637e4-5f18-472e-d5fb-b3f329cb78af"
      },
      "execution_count": null,
      "outputs": [
        {
          "output_type": "stream",
          "name": "stdout",
          "text": [
            "降水確率50％\n"
          ]
        }
      ]
    },
    {
      "cell_type": "code",
      "source": [
        "# 変数を使って数値の計算や文字列の連結をやってみる\n",
        "\n",
        "#　整数型と浮動小数点型の足し算\n",
        "\n",
        "number1 = 5\n",
        "number2 = 2.5\n",
        "print(number1 + number2)\n",
        "\n",
        "\n",
        "# 文字列型と文字列型の連結\n",
        "\n",
        "last_name = \"侍\"\n",
        "first_name = \"太郎\"\n",
        "print( last_name + first_name)"
      ],
      "metadata": {
        "colab": {
          "base_uri": "https://localhost:8080/"
        },
        "id": "qpGA06ibFAWF",
        "outputId": "422e3042-c526-4dd5-9939-fcfc90d2502c"
      },
      "execution_count": null,
      "outputs": [
        {
          "output_type": "stream",
          "name": "stdout",
          "text": [
            "7.5\n",
            "侍太郎\n"
          ]
        }
      ]
    },
    {
      "cell_type": "code",
      "source": [
        "#　文字列の中で変数の中身を表示する方法\n",
        "\n",
        "last_name =\"侍\"\n",
        "first_name =\"太郎\"\n",
        "sister_name =\"花子\"\n",
        "\n",
        "# 3つの変数を文字列に埋め込んで表示\n",
        "\n",
        "print(f\"私の名前は{last_name}{first_name}です。妹の名前は{sister_name}です。\")\n",
        "\n",
        "# 文字列に変数を埋め込んで表示することを変数展開と呼びます。\n",
        "# 文字列の直前に「f」をつけ、文字列の中で変数を表示したい部分に {変数名} のように記述します。この記述の方法を「フォーマット済み文字列リテラル」といいます。\n"
      ],
      "metadata": {
        "colab": {
          "base_uri": "https://localhost:8080/"
        },
        "id": "CuZV8ZAeGd54",
        "outputId": "1a99f7d7-147b-48f7-e65d-4010cc8fd1a4"
      },
      "execution_count": null,
      "outputs": [
        {
          "output_type": "stream",
          "name": "stdout",
          "text": [
            "私の名前は侍太郎です。妹の名前は花子です。\n"
          ]
        }
      ]
    },
    {
      "cell_type": "code",
      "source": [
        "# 配列　リスト　まとめ\n",
        "\n",
        "user_names = [\"侍太郎\",\"侍一郎\",\"侍二郎\",\"侍三郎\",\"侍四郎\"]\n",
        "\n",
        "print(user_names[1]) # 2番目の要素だけを表示\n",
        "\n",
        "user_names[1] = \"侍花子\" # 2番目の要素を更新\n",
        "print(user_names)\n",
        "\n",
        "user_names.append(\"侍五郎\") # ６番目の要素を追加\n",
        "print(user_names)\n",
        "\n",
        "user_names.pop(2) # 3番目の要素を削除（０始まりのため、２を指定）\n",
        "print(user_names)"
      ],
      "metadata": {
        "colab": {
          "base_uri": "https://localhost:8080/"
        },
        "id": "I79nLNhS0Rcq",
        "outputId": "75d47987-2e44-43d9-812e-5a6f75c76aa8"
      },
      "execution_count": null,
      "outputs": [
        {
          "output_type": "stream",
          "name": "stdout",
          "text": [
            "侍一郎\n",
            "['侍太郎', '侍花子', '侍二郎', '侍三郎', '侍四郎']\n",
            "['侍太郎', '侍花子', '侍二郎', '侍三郎', '侍四郎', '侍五郎']\n",
            "['侍太郎', '侍花子', '侍三郎', '侍四郎', '侍五郎']\n"
          ]
        }
      ]
    },
    {
      "cell_type": "code",
      "source": [
        "# 配列 リスト　要素の追加・削除\n",
        "\n",
        "user_names = [\"侍太郎\", \"侍一郎\", \"侍二郎\", \"侍三郎\", \"侍四郎\"]\n",
        "\n",
        "# 6番目の要素を追加する\n",
        "user_names.append(\"侍五郎\")\n",
        "print(user_names)\n",
        "\n",
        "# 3番目の要素を削除する\n",
        "user_names.pop(2) #0始まりのため、３番目のインデックスは２\n",
        "print(user_names)"
      ],
      "metadata": {
        "colab": {
          "base_uri": "https://localhost:8080/"
        },
        "id": "dFRURVFkw0py",
        "outputId": "bd040eca-883d-4d26-df0a-fd7e6425be04"
      },
      "execution_count": null,
      "outputs": [
        {
          "output_type": "stream",
          "name": "stdout",
          "text": [
            "['侍太郎', '侍一郎', '侍二郎', '侍三郎', '侍四郎', '侍五郎']\n",
            "['侍太郎', '侍一郎', '侍三郎', '侍四郎', '侍五郎']\n"
          ]
        }
      ]
    },
    {
      "cell_type": "code",
      "source": [
        "# 配列 リスト　要素の更新\n",
        "\n",
        "user_names = [\"侍太郎\", \"侍一郎\", \"侍三郎\", \"侍四郎\", \"侍五郎\"]\n",
        "\n",
        "# 二番目の要素を更新する\n",
        "user_names[1] = \"侍花子\"\n",
        "\n",
        "# 表示する\n",
        "print(user_names)\n"
      ],
      "metadata": {
        "colab": {
          "base_uri": "https://localhost:8080/"
        },
        "id": "ciq1YgiutQk3",
        "outputId": "256f660a-f98d-4a31-9b03-2065dd998351"
      },
      "execution_count": null,
      "outputs": [
        {
          "output_type": "stream",
          "name": "stdout",
          "text": [
            "['侍太郎', '侍花子', '侍三郎', '侍四郎', '侍五郎']\n"
          ]
        }
      ]
    },
    {
      "cell_type": "code",
      "source": [
        "# 配列　タプル\n",
        "\n",
        "#要素の取り出し\n",
        "\n",
        "country_names = (\"日本\",\"アメリカ\",\"イギリス\",\"フランス\")\n",
        "\n",
        "# ３番目にある「イギリス」という文字列だけを取り出す\n",
        "print(country_names[2])\n",
        "\n",
        "# すべての要素を表示\n",
        "print(country_names)"
      ],
      "metadata": {
        "colab": {
          "base_uri": "https://localhost:8080/"
        },
        "id": "6zwZtHC1HgGL",
        "outputId": "cbf7c854-7aa2-474c-d23f-b76345ea86f7"
      },
      "execution_count": null,
      "outputs": [
        {
          "output_type": "stream",
          "name": "stdout",
          "text": [
            "イギリス\n",
            "('日本', 'アメリカ', 'イギリス', 'フランス')\n"
          ]
        }
      ]
    },
    {
      "cell_type": "code",
      "source": [
        "# 配列　セット セットを作成したときの順番と、実際に管理されている順番は異なる\n",
        "\n",
        "country_names = {\"アメリカ\",\"イギリス\",\"日本\",\"フランス\"}\n",
        "\n",
        "# セット全体を表示\n",
        "print(country_names)"
      ],
      "metadata": {
        "colab": {
          "base_uri": "https://localhost:8080/"
        },
        "id": "4RKGneGkmst3",
        "outputId": "30755263-0807-4a67-9313-3328386284cb"
      },
      "execution_count": null,
      "outputs": [
        {
          "output_type": "stream",
          "name": "stdout",
          "text": [
            "{'フランス', '日本', 'イギリス', 'アメリカ'}\n"
          ]
        }
      ]
    },
    {
      "cell_type": "code",
      "source": [
        "# 配列　セット　重複しない\n",
        "\n",
        "prime_numbers = {2,5,2,7,3,5,5}\n",
        "\n",
        "# セット全体を表示\n",
        "print(prime_numbers)"
      ],
      "metadata": {
        "colab": {
          "base_uri": "https://localhost:8080/"
        },
        "id": "vfWtPUWYoK40",
        "outputId": "734d8bf3-8401-4e51-f239-8a301107ccc0"
      },
      "execution_count": null,
      "outputs": [
        {
          "output_type": "stream",
          "name": "stdout",
          "text": [
            "{2, 3, 5, 7}\n"
          ]
        }
      ]
    },
    {
      "cell_type": "code",
      "source": [
        "# 配列　セット　追加と削除\n",
        "\n",
        "# 1～10までに含まれる素数のセット\n",
        "prime_numbers = {2,3,5,7}\n",
        "\n",
        "# セット全体を表示\n",
        "print(prime_numbers)\n",
        "\n",
        "# 11をセットに追加\n",
        "prime_numbers.add(11)\n",
        "print(prime_numbers)\n",
        "\n",
        "# セットから３を削除\n",
        "prime_numbers.remove(3)\n",
        "print(prime_numbers)"
      ],
      "metadata": {
        "colab": {
          "base_uri": "https://localhost:8080/"
        },
        "id": "vdYDn_fIph3C",
        "outputId": "6a882dd7-4472-400e-df48-79e0332f557a"
      },
      "execution_count": null,
      "outputs": [
        {
          "output_type": "stream",
          "name": "stdout",
          "text": [
            "{2, 3, 5, 7}\n",
            "{2, 3, 5, 7, 11}\n",
            "{2, 5, 7, 11}\n"
          ]
        }
      ]
    },
    {
      "cell_type": "code",
      "source": [
        "# セットを使ってみよう\n",
        "\n",
        "country_names = {\"アメリカ\",\"イギリス\",\"日本\",\"フランス\",}\n",
        "\n",
        "# セット全体を表示\n",
        "print(country_names)\n",
        "\n",
        "# 「ドイツ」をセットに追加\n",
        "country_names.add(\"ドイツ\")\n",
        "print(country_names)\n",
        "\n",
        "# セットから「イギリス」を削除\n",
        "country_names.remove(\"イギリス\")\n",
        "print(country_names)"
      ],
      "metadata": {
        "colab": {
          "base_uri": "https://localhost:8080/"
        },
        "id": "IasiR_A6qyEj",
        "outputId": "89142f4c-1241-45c9-cd22-943c036238b8"
      },
      "execution_count": null,
      "outputs": [
        {
          "output_type": "stream",
          "name": "stdout",
          "text": [
            "{'フランス', '日本', 'イギリス', 'アメリカ'}\n",
            "{'ドイツ', '日本', 'イギリス', 'アメリカ', 'フランス'}\n",
            "{'ドイツ', '日本', 'アメリカ', 'フランス'}\n"
          ]
        }
      ]
    },
    {
      "cell_type": "code",
      "source": [
        "# 連想配列を作成\n",
        "personal_data = {\"name\": \"侍太郎\",\"age\": 36, \"gender\": \"男性\"}\n",
        "\n",
        "# キー「name」の値を表示\n",
        "print(personal_data[\"name\"])\n",
        "\n",
        "# 連想配列全体を表示\n",
        "print(personal_data)\n",
        "\n",
        "# キーの値を更新\n",
        "personal_data[\"age\"] = 37\n",
        "\n",
        "# 新しく要素を追加\n",
        "personal_data[\"adress\"] = \"東京都\"\n",
        "\n",
        "# 連想配列全体を表示\n",
        "print(personal_data)"
      ],
      "metadata": {
        "colab": {
          "base_uri": "https://localhost:8080/"
        },
        "id": "wqIxBcAsIeq3",
        "outputId": "ac662ab5-a433-430f-a33e-c8f2caea2f84"
      },
      "execution_count": null,
      "outputs": [
        {
          "output_type": "stream",
          "name": "stdout",
          "text": [
            "侍太郎\n",
            "{'name': '侍太郎', 'age': 36, 'gender': '男性'}\n",
            "{'name': '侍太郎', 'age': 37, 'gender': '男性', 'adress': '東京都'}\n"
          ]
        }
      ]
    },
    {
      "cell_type": "code",
      "source": [
        "from os import supports_bytes_environ\n",
        "# 配列　連想配列(ディクショナリまたは辞書)\n",
        "# 連想配列：インデックスの代わりにキーと呼ばれるラベルをつけて管理する\n",
        "# 中かっこ{ }で要素をはさむ\n",
        " # データごとにキーと値の指定が必要\n",
        " # 重複したキーは登録できません。\n",
        "\n",
        "\n",
        "statinary_prices = {\"鉛筆\": 70,\"ボールペン\": 120,\"シャープペンシル\": 150,\"消しゴム\": 90}\n",
        "print(statinary_prices)\n",
        "\n",
        "# 値の取り出し　ボールペンの価格を取り出して表示\n",
        "print(statinary_prices [\"ボールペン\"])\n",
        "\n",
        "sports = {1: \"サッカー\", 2: \"バドミントン\", 3: \"野球\", 4: \"バスケット\"}\n",
        "print(sports)\n",
        "\n",
        "# キー「２」の値を「テニス」に置き換える\n",
        "sports[2] = \"テニス\"\n",
        "print(sports)\n",
        "\n",
        "# キー「５」として水泳を追加\n",
        "sports[5] = \"水泳\"\n",
        "print(sports)\n",
        "\n",
        "# 「シャープペンシル」を要素ごと削除\n",
        "statinary_prices.pop(\"シャープペンシル\")\n",
        "print(statinary_prices)\n",
        "\n",
        "\n",
        "\n"
      ],
      "metadata": {
        "colab": {
          "base_uri": "https://localhost:8080/"
        },
        "id": "TdPHvXaK-IuS",
        "outputId": "60d5313a-25ff-4458-f05c-81327326ffce"
      },
      "execution_count": null,
      "outputs": [
        {
          "output_type": "stream",
          "name": "stdout",
          "text": [
            "{'鉛筆': 70, 'ボールペン': 120, 'シャープペンシル': 150, '消しゴム': 90}\n",
            "120\n",
            "{1: 'サッカー', 2: 'バドミントン', 3: '野球', 4: 'バスケット'}\n",
            "{1: 'サッカー', 2: 'テニス', 3: '野球', 4: 'バスケット'}\n",
            "{1: 'サッカー', 2: 'テニス', 3: '野球', 4: 'バスケット', 5: '水泳'}\n",
            "{'鉛筆': 70, 'ボールペン': 120, '消しゴム': 90}\n"
          ]
        }
      ]
    },
    {
      "cell_type": "code",
      "source": [
        "# 条件分岐 算術演算子と比較演算子の出力の違い\n",
        "print(45 + 18) # 算術演算子を使った場合の戻り値を出力する\n",
        "print(45 > 18) # 比較演算子を使った場合の戻り値を出力する"
      ],
      "metadata": {
        "colab": {
          "base_uri": "https://localhost:8080/"
        },
        "id": "ZtUnUyWmMK46",
        "outputId": "f434a0a8-90f7-4e69-cbc9-9a7502b9e58c"
      },
      "execution_count": null,
      "outputs": [
        {
          "output_type": "stream",
          "name": "stdout",
          "text": [
            "63\n",
            "True\n"
          ]
        }
      ]
    },
    {
      "cell_type": "code",
      "source": [
        "# 条件分岐　等価演算子はデータ型を合わせないと正しく比較できない\n",
        "printo(\"5\" == 5)\n",
        "\n",
        "# 文字列型の「5」と整数型の「5」は等しくないと判定されています。"
      ],
      "metadata": {
        "id": "L-DuqhckDAyW",
        "colab": {
          "base_uri": "https://localhost:8080/",
          "height": 204
        },
        "collapsed": true,
        "outputId": "c944bd8c-aabf-4b9c-9f20-7d2d144a62aa"
      },
      "execution_count": null,
      "outputs": [
        {
          "output_type": "error",
          "ename": "NameError",
          "evalue": "name 'printo' is not defined",
          "traceback": [
            "\u001b[0;31m---------------------------------------------------------------------------\u001b[0m",
            "\u001b[0;31mNameError\u001b[0m                                 Traceback (most recent call last)",
            "\u001b[0;32m<ipython-input-1-251d3fd4e22b>\u001b[0m in \u001b[0;36m<cell line: 2>\u001b[0;34m()\u001b[0m\n\u001b[1;32m      1\u001b[0m \u001b[0;31m# 条件分岐　等価演算子はデータ型を合わせないと正しく比較できない\u001b[0m\u001b[0;34m\u001b[0m\u001b[0;34m\u001b[0m\u001b[0m\n\u001b[0;32m----> 2\u001b[0;31m \u001b[0mprinto\u001b[0m\u001b[0;34m(\u001b[0m\u001b[0;34m\"5\"\u001b[0m \u001b[0;34m==\u001b[0m \u001b[0;36m5\u001b[0m\u001b[0;34m)\u001b[0m\u001b[0;34m\u001b[0m\u001b[0;34m\u001b[0m\u001b[0m\n\u001b[0m\u001b[1;32m      3\u001b[0m \u001b[0;34m\u001b[0m\u001b[0m\n\u001b[1;32m      4\u001b[0m \u001b[0;31m# 文字列型の「5」と整数型の「5」は等しくないと判定されています。\u001b[0m\u001b[0;34m\u001b[0m\u001b[0;34m\u001b[0m\u001b[0m\n",
            "\u001b[0;31mNameError\u001b[0m: name 'printo' is not defined"
          ]
        }
      ]
    },
    {
      "cell_type": "code",
      "source": [
        "# 条件分岐　データ型を合わせた記述\n",
        "\n",
        "num1 = 5\n",
        "num2 = \"5\"\n",
        "\n",
        "if num1 == int(num2):\n",
        "    print(\"num1とnum2は等しいです\")"
      ],
      "metadata": {
        "id": "1kZFUjBaDbAM",
        "colab": {
          "base_uri": "https://localhost:8080/"
        },
        "outputId": "cb4b57e8-5318-4295-f5c6-34d40af73c93"
      },
      "execution_count": null,
      "outputs": [
        {
          "output_type": "stream",
          "name": "stdout",
          "text": [
            "num1とnum2は等しいです\n"
          ]
        }
      ]
    },
    {
      "cell_type": "code",
      "source": [
        "# 条件分岐　if を記述するパターン\n",
        "# （もし○○であれば、●●する）\n",
        "\n",
        "#値が4であれば『大当たりです』という文字列を出力する\n",
        "\n",
        "# ランダムな整数を利用するために、randomモジュールをインポート\n",
        "import random\n",
        "\n",
        "# 変数 num に０～4までのランダムな整数を代入する\n",
        "num = random.randint(0, 4)\n",
        "\n",
        "# 変数 num の値を出力\n",
        "print(num)\n",
        "\n",
        "# 変数 num の値が４であれば、「大当たりです」という文字列を出力する\n",
        "if num == 4:\n",
        "    print(\"大当たりです\")"
      ],
      "metadata": {
        "colab": {
          "base_uri": "https://localhost:8080/"
        },
        "id": "Q1QHRetbQRwv",
        "outputId": "14836032-8fa5-4612-e19d-b61018c90bce"
      },
      "execution_count": null,
      "outputs": [
        {
          "output_type": "stream",
          "name": "stdout",
          "text": [
            "4\n",
            "大当たりです\n"
          ]
        }
      ]
    },
    {
      "cell_type": "code",
      "source": [
        "''' 条件分岐　if と else を記述するパターン\n",
        "（もし○○であれば●●し、それ以外であれば▲▲する）\n",
        "'''\n",
        "\n",
        "# ランダムな整数を利用するために、randomモジュールをインポート\n",
        "import random\n",
        "\n",
        "# 変数numに０～４までのランダムな整数を代入する\n",
        "num = random.randint(0, 4)\n",
        "\n",
        "# 変数numの値を出力\n",
        "print(num)\n",
        "\n",
        "# 変数numの値が４なら「大当たりです」、それ以外なら「はずれです」と出力する\n",
        "if num == 4:\n",
        "    print(\"大当たりです\")\n",
        "else:\n",
        "    print(\"はずれです\")"
      ],
      "metadata": {
        "colab": {
          "base_uri": "https://localhost:8080/"
        },
        "id": "c1WAD_jPOG8O",
        "outputId": "650d0996-6869-4f6f-d050-26ee7795a2cd"
      },
      "execution_count": null,
      "outputs": [
        {
          "output_type": "stream",
          "name": "stdout",
          "text": [
            "4\n",
            "大当たりです\n"
          ]
        }
      ]
    },
    {
      "cell_type": "code",
      "source": [
        "# 条件分岐　if、elif、else、を記述するパターン\n",
        "# （もし○○であれば●●し、そうでなくて□□であれば■■し、それ以外であれば▲▲する）\n",
        "\n",
        "# ランダムな整数を利用するために、randomモジュールをインポート\n",
        "import random\n",
        "\n",
        "# 変数numに０～４までのランダムな整数を代入する\n",
        "num = random.randint(0, 4)\n",
        "\n",
        "# 変数の値を出力\n",
        "print(num)\n",
        "\n",
        "# 変数numの値が４なら「大当たりです」、３なら「当たりです」、それ以外なら「はずれです」と出力する\n",
        "if num == 4:\n",
        "    print(\"大当たりです\")\n",
        "elif num == 3:\n",
        "    print(\"当たりです\")\n",
        "else :\n",
        "    print(\"はずれです\")\n"
      ],
      "metadata": {
        "colab": {
          "base_uri": "https://localhost:8080/"
        },
        "id": "K1ynJPXaQv_t",
        "outputId": "061c3485-1938-4e9c-dd89-fcb78dc005c1"
      },
      "execution_count": null,
      "outputs": [
        {
          "output_type": "stream",
          "name": "stdout",
          "text": [
            "4\n",
            "大当たりです\n"
          ]
        }
      ]
    },
    {
      "cell_type": "code",
      "source": [
        "# 条件分岐　論理演算子\n",
        "# 「かつ」「または」で複数の条件式を組み合わせる\n",
        "\n",
        "# ランダムな整数を利用するために、randomモジュールをインポート\n",
        "import random\n",
        "\n",
        "#変数numに０～４までのランダムな整数を代入する\n",
        "num = random.randint(0, 4)\n",
        "\n",
        "# 変数numの値を出力\n",
        "print(num)\n",
        "\n",
        "# すべての条件が成り立つ場合にのみ処理を行う（変数numの値が２）\n",
        "if 1 < num and num < 3:\n",
        "    print(\"変数numは１より大きく３より小さいです\")\n",
        "else:\n",
        "    print(\"and条件が成り立ちませんでした\")\n",
        "\n",
        "# １つでも条件が成り立てば処理を行う（変数numの値が１または３）\n",
        "if num == 1 or num == 3:\n",
        "    print(\"変数numは１または３です\")\n",
        "else:\n",
        "    print(\"or条件が成り立ちませんでした\")\n"
      ],
      "metadata": {
        "colab": {
          "base_uri": "https://localhost:8080/"
        },
        "id": "BL6Ab0jTVf2I",
        "outputId": "f824acf4-3102-4e77-e455-c65b269876ae"
      },
      "execution_count": null,
      "outputs": [
        {
          "output_type": "stream",
          "name": "stdout",
          "text": [
            "2\n",
            "変数numは１より大きく３より小さいです\n",
            "or条件が成り立ちませんでした\n"
          ]
        }
      ]
    },
    {
      "cell_type": "code",
      "source": [
        "# kadai_008\n",
        "\n",
        "# ランダムな整数を利用するために、randomモジュールをインポート\n",
        "import random\n",
        "\n",
        "#変数varに１～３０までのランダムな正の整数を代入する\n",
        "var = random.randint(1, 30)\n",
        "\n",
        "# 変数varの値を出力\n",
        "print(var)\n",
        "\n",
        "# 変数varが、3の倍数の場合は「Fizz」を出力\n",
        "if var % 3 == 0:\n",
        "    print(\"Fizz\")\n",
        "\n",
        "# 変数varが、5の倍数の場合は「Buzz」を出力\n",
        "   var % 5 == 0:\n",
        "    print(\"Buzz\")\n",
        "\n",
        "#  変数varが、3の倍数と5の倍数の両方に該当する場合は「FizzBuzz」を出力\n",
        "elif var % 3 == 0 and var % 5 ==0:\n",
        "    print(\"FizzBuzz\")\n",
        "\n",
        "\n",
        "\n"
      ],
      "metadata": {
        "colab": {
          "base_uri": "https://localhost:8080/",
          "height": 111
        },
        "id": "AjQPx_CZbOcf",
        "outputId": "0b904704-ebe2-4b01-fbba-ff1a09f45381"
      },
      "execution_count": null,
      "outputs": [
        {
          "output_type": "error",
          "ename": "IndentationError",
          "evalue": "unindent does not match any outer indentation level (<tokenize>, line 17)",
          "traceback": [
            "\u001b[0;36m  File \u001b[0;32m\"<tokenize>\"\u001b[0;36m, line \u001b[0;32m17\u001b[0m\n\u001b[0;31m    var % 5 == 0:\u001b[0m\n\u001b[0m    ^\u001b[0m\n\u001b[0;31mIndentationError\u001b[0m\u001b[0;31m:\u001b[0m unindent does not match any outer indentation level\n"
          ]
        }
      ]
    },
    {
      "cell_type": "code",
      "source": [],
      "metadata": {
        "id": "g9xgm-VUa8F8"
      },
      "execution_count": null,
      "outputs": []
    },
    {
      "cell_type": "code",
      "source": [
        "# 繰り返し処理　for文\n",
        "'''\n",
        "for ループ変数　in 繰り返し対象のリスト（反復可能オブジェクト）:\n",
        "　　ブロック（繰り返したい処理）\n",
        "'''\n",
        "# 使用例\n",
        "for i in range(1, 11):\n",
        "  print(i)\n"
      ],
      "metadata": {
        "colab": {
          "base_uri": "https://localhost:8080/"
        },
        "id": "LdwQRG-8TVjn",
        "outputId": "eaaed6ef-9a06-4139-99cf-65e0df59ac3f"
      },
      "execution_count": null,
      "outputs": [
        {
          "output_type": "stream",
          "name": "stdout",
          "text": [
            "1\n",
            "2\n",
            "3\n",
            "4\n",
            "5\n",
            "6\n",
            "7\n",
            "8\n",
            "9\n",
            "10\n"
          ]
        }
      ]
    },
    {
      "cell_type": "code",
      "source": [
        "# 繰り返し処理　for文\n",
        "\n",
        "for i in range(1, 11):\n",
        "  print(i)\n"
      ],
      "metadata": {
        "colab": {
          "base_uri": "https://localhost:8080/"
        },
        "id": "pxdT3WQMcJXo",
        "outputId": "b0ee3846-0729-4370-c792-fe2fbfa85fc0"
      },
      "execution_count": null,
      "outputs": [
        {
          "output_type": "stream",
          "name": "stdout",
          "text": [
            "1\n",
            "2\n",
            "3\n",
            "4\n",
            "5\n",
            "6\n",
            "7\n",
            "8\n",
            "9\n",
            "10\n"
          ]
        }
      ]
    },
    {
      "cell_type": "code",
      "source": [],
      "metadata": {
        "id": "teej82V3oSkQ"
      },
      "execution_count": null,
      "outputs": []
    },
    {
      "cell_type": "code",
      "source": [
        "# 繰り返し処理　range関数\n",
        "# 書き方\n",
        "'''\n",
        "range(終了数)\n",
        "range(開始数, 終了数）\n",
        "range(開始数,終了数,ステップ)\n",
        "'''\n",
        "# 例\n",
        "\n",
        "range(3)\n",
        "# 要素：0　1　2\n",
        "\n",
        "range(6, 9)\n",
        "# 要素　6 7 8\n",
        "\n",
        "range(5, 11, 2)\n",
        "# 要素：5　7　9（5から10まで2つおきに）\n"
      ],
      "metadata": {
        "id": "y-tMy0uxY12q"
      },
      "execution_count": null,
      "outputs": []
    },
    {
      "cell_type": "code",
      "source": [
        "# 繰り返し処理　break文\n",
        "#ランダムな整数を利用するために、randomモジュールをインポート\n",
        "import random\n",
        "\n",
        "for i in range(1, 11):\n",
        "  # 変数numに1～20までのランダムな整数を代入する\n",
        "  num = random.randint(1, 20)\n",
        "  print(f\"{i}回目の結果は{num}です。\")\n",
        "\n",
        "  # 変数numの値が20であれば、break文で繰り返し処理を強制終了する\n",
        "  if num == 20:\n",
        "    print(\"20が出たので繰り返し処理を強制終了します。\")\n",
        "    break"
      ],
      "metadata": {
        "colab": {
          "base_uri": "https://localhost:8080/"
        },
        "id": "KGZCtq1Wd53O",
        "outputId": "81d7283d-498f-4f90-853d-04fb4afb52e9"
      },
      "execution_count": null,
      "outputs": [
        {
          "output_type": "stream",
          "name": "stdout",
          "text": [
            "1回目の結果は4です。\n",
            "2回目の結果は10です。\n",
            "3回目の結果は18です。\n",
            "4回目の結果は13です。\n",
            "5回目の結果は10です。\n",
            "6回目の結果は10です。\n",
            "7回目の結果は4です。\n",
            "8回目の結果は5です。\n",
            "9回目の結果は9です。\n",
            "10回目の結果は1です。\n",
            "11回目の結果は14です。\n",
            "12回目の結果は10です。\n",
            "13回目の結果は11です。\n",
            "14回目の結果は3です。\n",
            "15回目の結果は20です。\n",
            "20が出たので繰り返し処理を強制終了します。\n"
          ]
        }
      ]
    },
    {
      "cell_type": "code",
      "source": [
        "# 繰り返し処理　continue文\n",
        "# 繰り返し処理の途中で中断し、次のループに進む命令\n",
        "\n",
        "for i in range(1, 11):\n",
        "  # ループ変数iの値が奇数（2で割った余りが１）であれば、値を出力せずにcontinue文で次のループに進む\n",
        "  if i % 2 == 1:\n",
        "    continue\n",
        "  print(i)"
      ],
      "metadata": {
        "colab": {
          "base_uri": "https://localhost:8080/"
        },
        "id": "uzNJQpYYgSOo",
        "outputId": "8cb0f513-a45d-4437-d7b4-6434e6a09b70"
      },
      "execution_count": null,
      "outputs": [
        {
          "output_type": "stream",
          "name": "stdout",
          "text": [
            "2\n",
            "4\n",
            "6\n",
            "8\n",
            "10\n"
          ]
        }
      ]
    },
    {
      "cell_type": "code",
      "source": [
        "# 繰り返し処理 while文\n",
        "\n",
        "# ランダムな整数を利用するためrandomをインポート\n",
        "import random\n",
        "\n",
        "# 変数numに０～４までの整数を代入する。\n",
        "num = random.randint(0, 4)\n",
        "\n",
        "# 変数numの値を出力する（確認用）\n",
        "print(f\"最初の値は{num}です。\")\n",
        "\n",
        "# 変数numの値が０以外である間、変数numの値を出力し続ける\n",
        "while num != 0:\n",
        "\n",
        "  # 変数numに０～４までの整数を代入する\n",
        "  num = random.randint(0, 4)\n",
        "\n",
        "  # 次の条件式で比較される、変数numの現在の値を出力する\n",
        "  print(F\"現在の値は{num}です。\")"
      ],
      "metadata": {
        "colab": {
          "base_uri": "https://localhost:8080/"
        },
        "id": "nVFKVuKKpcQ-",
        "outputId": "38758eea-948e-4803-a745-03c96fe0b9b0"
      },
      "execution_count": null,
      "outputs": [
        {
          "output_type": "stream",
          "name": "stdout",
          "text": [
            "最初の値は3です。\n",
            "現在の値は1です。\n",
            "現在の値は4です。\n",
            "現在の値は1です。\n",
            "現在の値は1です。\n",
            "現在の値は0です。\n"
          ]
        }
      ]
    },
    {
      "cell_type": "code",
      "source": [
        "# 繰り返し処理　無限ループ\n",
        "# すぐに左の実行停止ボタンを押してください。\n",
        "\n",
        "# 変数numに５を代入する\n",
        "num = 5\n",
        "\n",
        "# 条件式が常にTRUEを返すので、無限ループになる\n",
        "while num == 5:\n",
        "  print(num)"
      ],
      "metadata": {
        "id": "OcmxZbzbwduo"
      },
      "execution_count": null,
      "outputs": []
    },
    {
      "cell_type": "code",
      "source": [
        "# 繰り返し処理　while　文の　break　文\n",
        "\n",
        "# ランダムな整数を利用するため、randomをインポート\n",
        "import random\n",
        "\n",
        "# 変数nunに０～４までのランダムな整数を代入する\n",
        "num = random.randint(0, 4)\n",
        "\n",
        "# カウンタ変数を用意する\n",
        "i = 1\n",
        "\n",
        "# 変数numの最初の値を出力する（確認用）\n",
        "print(f\"最初の値は{num}です。\")\n",
        "\n",
        "# 変数numの値が０以外である間、変数numの値を出力し続ける\n",
        "while num != 0:\n",
        "\n",
        "   # 変数numに０～４までのランダムな整数を代入する\n",
        "    num = random.randint(0, 4)\n",
        "\n",
        "   # カウンタ変数iの値が５であれば、break文で繰り返し処理を強制終了する。\n",
        "    if i == 5:\n",
        "      print(\"5回目なので繰り返し処理を強制終了します。\")\n",
        "      break\n",
        "\n",
        "    # 次の条件式で比較される、変数numの現在の値を出力する。\n",
        "    print(f\"現在の値は{num}です。\")\n",
        "\n",
        "    # カウンタ変数の値を１増やす\n",
        "    i = i + 1"
      ],
      "metadata": {
        "colab": {
          "base_uri": "https://localhost:8080/"
        },
        "id": "A9e6opGSx8jD",
        "outputId": "113782a8-89f8-46b1-eae0-c91bf192bc67"
      },
      "execution_count": null,
      "outputs": [
        {
          "output_type": "stream",
          "name": "stdout",
          "text": [
            "最初の値は1です。\n",
            "現在の値は4です。\n",
            "現在の値は1です。\n",
            "現在の値は1です。\n",
            "現在の値は3です。\n",
            "5回目なので繰り返し処理を強制終了します。\n"
          ]
        }
      ]
    },
    {
      "cell_type": "code",
      "source": [
        "# 繰り返し処理　while 文の　continue 文\n",
        "# ランダムな整数を利用するため、randomをインポート\n",
        "import random\n",
        "\n",
        "# 合計用の変数を用意する\n",
        "sum = 0\n",
        "\n",
        "# 変数sumの値が２０以上になるまで繰り返し処理を行う\n",
        "while sum < 20:\n",
        "    # 変数numに１～１０までのランダムな整数を代入する\n",
        "    num = random.randint(1, 10)\n",
        "    print(f\"{num}が出ました。\")\n",
        "\n",
        "    # 変数numの値が偶数（２で割った余りが０）であれば、加算せずにcontinue文で次のループに進む\n",
        "    if num % 2 == 0:\n",
        "        print(\"偶数なので加算しません。\")\n",
        "        continue\n",
        "\n",
        "    # 変数sumに変数numを加算する\n",
        "    sum = sum + num\n",
        "    print(f\"現在の合計は{sum}です。\")"
      ],
      "metadata": {
        "id": "YGWQCMlF4F05"
      },
      "execution_count": null,
      "outputs": []
    },
    {
      "cell_type": "code",
      "source": [
        "# 繰り返し処理　for文の書き方　配列\n",
        "\n",
        "# 配列の要素を順番に取り出す\n",
        "user_names = [\"侍太郎\",\"侍一郎\",\"侍二郎\",\"侍三郎\",\"侍四郎\"]\n",
        "\n",
        "for user_name in user_names:\n",
        "  print(user_name)"
      ],
      "metadata": {
        "colab": {
          "base_uri": "https://localhost:8080/"
        },
        "id": "XOe9TBdR56qh",
        "outputId": "7d0c5a7e-9988-4668-b231-e1aeda47af29"
      },
      "execution_count": null,
      "outputs": [
        {
          "output_type": "stream",
          "name": "stdout",
          "text": [
            "侍太郎\n",
            "侍一郎\n",
            "侍二郎\n",
            "侍三郎\n",
            "侍四郎\n"
          ]
        }
      ]
    },
    {
      "cell_type": "code",
      "source": [
        "# 繰り返し処理　for文の書き方　　辞書（連想配列）\n",
        "\n",
        "personal_data = {\"name\": \"侍太郎\",\"age\": 36, \"gender\": \"男性\"}\n",
        "\n",
        "# 連想配列 personal_data のキーと値を１つずつ順番に出力する\n",
        "for key, value in personal_data.items():\n",
        "    print(f\"{key}は{value}です。\")\n",
        "\n",
        "# 連想配列 personal_data の値を１つずつ順番に出力する\n",
        "for value in personal_data.values():\n",
        "    print(value)"
      ],
      "metadata": {
        "colab": {
          "base_uri": "https://localhost:8080/"
        },
        "id": "XR-vKin88oV9",
        "outputId": "bf861a61-d68a-43c4-fe94-29edbb93a0ad"
      },
      "execution_count": null,
      "outputs": [
        {
          "output_type": "stream",
          "name": "stdout",
          "text": [
            "nameは侍太郎です。\n",
            "ageは36です。\n",
            "genderは男性です。\n",
            "侍太郎\n",
            "36\n",
            "男性\n"
          ]
        }
      ]
    },
    {
      "cell_type": "code",
      "source": [
        "# 繰り返し処理　辞書（連想配列）for文の書き方\n",
        "# 配列のインデックスを取り出す\n",
        "\n",
        "user_names = [\"侍太郎\",\"侍一郎\",\"侍二郎\",\"侍三郎\",\"侍四郎\"]\n",
        "\n",
        "# 配列 user_names のインデックスと値を１つずつ順番に出力する\n",
        "for index, value in enumerate(user_names):\n",
        "    print(f\"{index}: {value}\")\n"
      ],
      "metadata": {
        "colab": {
          "base_uri": "https://localhost:8080/"
        },
        "id": "1enuPr6HB2vb",
        "outputId": "7232efaa-bd84-425c-ba88-c5b4b51ee7b5"
      },
      "execution_count": null,
      "outputs": [
        {
          "output_type": "stream",
          "name": "stdout",
          "text": [
            "0: 侍太郎\n",
            "1: 侍一郎\n",
            "2: 侍二郎\n",
            "3: 侍三郎\n",
            "4: 侍四郎\n"
          ]
        }
      ]
    },
    {
      "cell_type": "code",
      "source": [
        "# 繰り返し処理　辞書　break 文\n",
        "\n",
        "user_names =[\"侍太郎\",\"侍一郎\",\"侍二郎\",\"侍三郎\",\"侍四郎\",]\n",
        "\n",
        "# 検索したいユーザー名を代入する変数\n",
        "target = \"侍二郎\"\n",
        "\n",
        "for user_name in user_names:\n",
        "    print(user_name)\n",
        "\n",
        "    # 変数user_nameと変数targetの値が一致すれば、break文で繰り返し処理を強制終了する\n",
        "    if (user_name == target):\n",
        "        print(f\"{target}さんが見つかったので、繰り返し処理を強制終了します。\")\n",
        "        break\n"
      ],
      "metadata": {
        "colab": {
          "base_uri": "https://localhost:8080/"
        },
        "id": "nU-qg73GRRt-",
        "outputId": "828baf9b-2922-42c4-9749-131bdb14a58a"
      },
      "execution_count": null,
      "outputs": [
        {
          "output_type": "stream",
          "name": "stdout",
          "text": [
            "侍太郎\n",
            "侍一郎\n",
            "侍二郎\n",
            "侍二郎さんが見つかったので、繰り返し処理を強制終了します。\n"
          ]
        }
      ]
    },
    {
      "cell_type": "code",
      "source": [
        "# 繰り返し処理　辞書（連想配列）　continue文\n",
        "score = {\n",
        "    \"国語\": 80,\n",
        "    \"数学\": 55,\n",
        "    \"理科\": 70,\n",
        "    \"社会\": 85,\n",
        "    \"英語\": 60\n",
        "}\n",
        "\n",
        "print(\"合格した科目は以下の通りです。\")\n",
        "\n",
        "for key, value in score.items():\n",
        "    # 変数 value の値（点数）が70より小さければ、キーと値を出力せずにcontinue文で次のループに進む\n",
        "    if (value < 70):\n",
        "        continue\n",
        "    print(f\"{key} : {value}点\")"
      ],
      "metadata": {
        "colab": {
          "base_uri": "https://localhost:8080/"
        },
        "id": "8FN-cdc6RN2r",
        "outputId": "1e56c975-8a21-4dde-aaa7-765bd09699c5"
      },
      "execution_count": null,
      "outputs": [
        {
          "output_type": "stream",
          "name": "stdout",
          "text": [
            "合格した科目は以下の通りです。\n",
            "国語 : 80点\n",
            "理科 : 70点\n",
            "社会 : 85点\n"
          ]
        }
      ]
    },
    {
      "cell_type": "code",
      "source": [
        "# 関数\n",
        "# 関数の書き方\n",
        "#　　　　　　def 関数名():\n",
        "#      　　　　　一連の処理"
      ],
      "metadata": {
        "id": "jBMBKLVDKLFN"
      },
      "execution_count": null,
      "outputs": []
    },
    {
      "cell_type": "code",
      "source": [
        "# 関数　関数の呼び出し方\n",
        "\n",
        "# 朝の挨拶を出力する関数を作成する\n",
        "def say_good_morning():\n",
        "    print(\"おはようございます！\")\n",
        "    print(\"昨日はよく眠れましたか？\")\n",
        "    print(\"今日も一日頑張りましょう！\")\n",
        "\n",
        "#  夜の挨拶を出力する関数を作成する\n",
        "def say_good_evening():\n",
        "    print(\"こんばんは！\")\n",
        "    print(\"今日もお疲れさまでした。\")\n",
        "\n",
        "# 朝の挨拶を出力する関数を呼び出す\n",
        "say_good_morning()\n",
        "\n",
        "# 夜の挨拶を出力する関数を呼び出す\n",
        "say_good_evening()\n",
        "\n"
      ],
      "metadata": {
        "colab": {
          "base_uri": "https://localhost:8080/"
        },
        "id": "v5w37LoVOBr6",
        "outputId": "0b0e3650-59ef-4724-da96-7ff79d4a353c"
      },
      "execution_count": null,
      "outputs": [
        {
          "output_type": "stream",
          "name": "stdout",
          "text": [
            "おはようございます！\n",
            "昨日はよく眠れましたか？\n",
            "今日も一日頑張りましょう！\n",
            "こんばんは！\n",
            "今日もお疲れさまでした。\n"
          ]
        }
      ]
    },
    {
      "cell_type": "code",
      "source": [
        "# 関数　引数の使い方\n",
        "'''\n",
        "def 関数名(引数名)\n",
        "　　引数を使った一連の処理\n",
        "'''\n",
        "# 例\n",
        "def calculate_total(price):\n",
        "    # 与えられた引数priceに送料を加算し、変数totalに代入する\n",
        "    total = price + 500\n",
        "\n",
        "    # 変数totalの値を出力する\n",
        "    print(f\"{total}円\")\n",
        "\n",
        "# 関数を呼び出し、引数として購入代金を渡す\n",
        "calculate_total(1200)"
      ],
      "metadata": {
        "colab": {
          "base_uri": "https://localhost:8080/"
        },
        "id": "p5JIsCE-Rb0_",
        "outputId": "4ed39a24-25a9-4609-fde9-a9384431c8b9"
      },
      "execution_count": null,
      "outputs": [
        {
          "output_type": "stream",
          "name": "stdout",
          "text": [
            "1700円\n"
          ]
        }
      ]
    },
    {
      "cell_type": "code",
      "source": [
        "# 関数　複数の引数\n",
        "\n",
        "def add_two_arguments(price,shipping_fee):\n",
        "  # 与えられた引数priceと引数shipping_feeを加算し、変数totalに代入する\n",
        "  total = price + shipping_fee\n",
        "\n",
        "  # 変数totalの値を出力する\n",
        "  print(f\"{total}円\")\n",
        "\n",
        "# 関数を呼び出し、引数として購入金額と送料をわたす。\n",
        "add_two_arguments(1200, 500)\n",
        "\n"
      ],
      "metadata": {
        "colab": {
          "base_uri": "https://localhost:8080/"
        },
        "id": "aloU73NMVFcm",
        "outputId": "101b0057-edb3-4ed8-9e33-f35e2ba46163"
      },
      "execution_count": null,
      "outputs": [
        {
          "output_type": "stream",
          "name": "stdout",
          "text": [
            "1700円\n"
          ]
        }
      ]
    },
    {
      "cell_type": "code",
      "source": [
        "# 購入済みかどうかを判定する変数\n",
        "purchased = True\n",
        "\n",
        "# 戻り値を返す関数を定義する\n",
        "def is_purchased():\n",
        "    if(purchased):\n",
        "        return True\n",
        "\n",
        "    else:\n",
        "        return False\n",
        "\n",
        "# 戻り値を返す関数を条件式の使う（Trueであれば処理が実行される）\n",
        "if (is_purchased()):\n",
        "    print(\"商品は購入済みです。\")\n"
      ],
      "metadata": {
        "colab": {
          "base_uri": "https://localhost:8080/"
        },
        "id": "qhHTFT_SS0IR",
        "outputId": "8a212813-2f8d-4167-de43-88722ab2616f"
      },
      "execution_count": null,
      "outputs": [
        {
          "output_type": "stream",
          "name": "stdout",
          "text": [
            "商品は購入済みです。\n"
          ]
        }
      ]
    },
    {
      "cell_type": "code",
      "source": [
        "def double(num: int):\n",
        "    return num * 2\n"
      ],
      "metadata": {
        "id": "MBE1m1JnWMKm"
      },
      "execution_count": null,
      "outputs": []
    },
    {
      "cell_type": "code",
      "source": [
        "# 変数スコープ　ローカルスコープの使い方\n",
        "# ローカルスコープとは、関数の中の有効範囲のこと\n",
        "def show_user_name():\n",
        "  # ローカル変数を定義する（関数の中でしか使えない変数）\n",
        "  user_name =\"侍太郎\"\n",
        "\n",
        "  # ローカルスコープの範囲内でローカル変数を使う\n",
        "  print(user_name)\n",
        "\n",
        "show_user_name()\n",
        "\n",
        "# ローカルスコープの範囲外でローカル変数を使う（エラーが発生する）\n",
        "print(user_name)"
      ],
      "metadata": {
        "id": "0aEqwdt9nWT1"
      },
      "execution_count": null,
      "outputs": []
    },
    {
      "cell_type": "code",
      "source": [
        "# 変数スコープ　　グローバルスコープ\n",
        "# グローバルスコープとは、関数の外の有効範囲のこと\n",
        "\n",
        "# グローバル変数を定義する\n",
        "user_name = \"侍花子\"\n",
        "\n",
        "def show_user_name():\n",
        "  # ローカル変数を定義する\n",
        "  user_name = \"侍太郎\"\n",
        "\n",
        "  # ローカルスコープの範囲内でローカルスコープを使う\n",
        "\n",
        "  print(user_name)\n",
        "\n",
        "show_user_name()\n",
        "\n",
        "# グローバルスコープの範囲内でグローバル変数を使う\n",
        "print(user_name)\n",
        "\n"
      ],
      "metadata": {
        "id": "fqiGinj_p9BM",
        "colab": {
          "base_uri": "https://localhost:8080/"
        },
        "outputId": "5a371bd7-e474-470f-a745-48c4d473ac69"
      },
      "execution_count": null,
      "outputs": [
        {
          "output_type": "stream",
          "name": "stdout",
          "text": [
            "侍太郎\n",
            "侍花子\n"
          ]
        }
      ]
    },
    {
      "cell_type": "code",
      "source": [
        "# 変数スコープ　　グローバルスコープ\n",
        "# グローバルスコープとは、関数の外の有効範囲のこと\n",
        "\n",
        "# グローバル変数を定義する\n",
        "user_name = \"侍花子\"\n",
        "\n",
        "def show_user_name():\n",
        "  # ローカル変数を定義する\n",
        "  # user_name = \"侍太郎\"\n",
        "\n",
        "  # グローバルスコープの範囲外でグローバル変数を使う（エラーが発生しない）\n",
        "\n",
        "  print(user_name)\n",
        "\n",
        "show_user_name()\n",
        "\n",
        "# グローバルスコープの範囲内でグローバル変数を使う\n",
        "print(user_name)\n",
        "\n"
      ],
      "metadata": {
        "colab": {
          "base_uri": "https://localhost:8080/"
        },
        "id": "QsnIBoJQuYTD",
        "outputId": "4b92c67b-5aa7-4e83-80d8-ff3451ed3d9e"
      },
      "execution_count": null,
      "outputs": [
        {
          "output_type": "stream",
          "name": "stdout",
          "text": [
            "侍花子\n",
            "侍花子\n"
          ]
        }
      ]
    },
    {
      "cell_type": "code",
      "source": [
        "# クラス　属性を使う\n",
        "# クラス　属性を使う\n",
        "\n",
        "class Product:\n",
        "    def __init__(self):\n",
        "      # 属性を定義する\n",
        "      self.name = \"\"\n",
        "\n",
        "shampoo = Product()\n",
        "\n",
        "# 属性にアクセスし、値を代入する\n",
        "shampoo.name = \"シャンプー\"\n",
        "\n",
        "# 属性にアクセスし値を出力する\n",
        "print(shampoo.name)\n",
        "\n",
        "\n",
        "\n"
      ],
      "metadata": {
        "id": "BHgURCkPnVV6",
        "colab": {
          "base_uri": "https://localhost:8080/"
        },
        "outputId": "faba9484-89b2-40aa-faaa-874e68ea57eb"
      },
      "execution_count": null,
      "outputs": [
        {
          "output_type": "stream",
          "name": "stdout",
          "text": [
            "シャンプー\n"
          ]
        }
      ]
    },
    {
      "cell_type": "code",
      "source": [
        "# メソッドの書き方　クラス内での定義の仕方\n",
        "\n",
        "class Product:\n",
        "    def __int__(self):\n",
        "      self.name = \"\"\n",
        "\n",
        "    # メソッドを定義する\n",
        "\n",
        "    def set_name(self, name):\n",
        "        self.name = name\n",
        "\n",
        " shampoo = Product()\n",
        "\n",
        " # メソッドにアクセスして実行する\n",
        " shampoo.se_name(\"シャンプー\")"
      ],
      "metadata": {
        "id": "gF2BopDWYo54",
        "colab": {
          "base_uri": "https://localhost:8080/",
          "height": 111
        },
        "outputId": "3fb813d4-13e5-42d5-cd87-add589969f07"
      },
      "execution_count": null,
      "outputs": [
        {
          "output_type": "error",
          "ename": "IndentationError",
          "evalue": "unindent does not match any outer indentation level (<tokenize>, line 12)",
          "traceback": [
            "\u001b[0;36m  File \u001b[0;32m\"<tokenize>\"\u001b[0;36m, line \u001b[0;32m12\u001b[0m\n\u001b[0;31m    shampoo = Product()\u001b[0m\n\u001b[0m    ^\u001b[0m\n\u001b[0;31mIndentationError\u001b[0m\u001b[0;31m:\u001b[0m unindent does not match any outer indentation level\n"
          ]
        }
      ]
    },
    {
      "cell_type": "code",
      "source": [
        "# クラス　メソッドの使い方\n",
        "\n",
        "class Product:\n",
        "    def __init__(self):\n",
        "        self.name = \"\"\n",
        "\n",
        "    # メソッドを定義する\n",
        "    def set_name(self, name):\n",
        "        self.name = name\n",
        "\n",
        "    def show_name(self):\n",
        "        print(self.name)\n",
        "\n",
        "# インスタンス化する\n",
        "coffee = Product()\n",
        "\n",
        "# メソッドにアクセスして実行する\n",
        "coffee.set_name(\"コーヒー\")\n",
        "coffee.show_name()\n"
      ],
      "metadata": {
        "colab": {
          "base_uri": "https://localhost:8080/"
        },
        "id": "xlGRJ_0PiJhW",
        "outputId": "18491139-6688-4d71-f45d-7678d6985246"
      },
      "execution_count": null,
      "outputs": [
        {
          "output_type": "stream",
          "name": "stdout",
          "text": [
            "コーヒー\n"
          ]
        }
      ]
    },
    {
      "cell_type": "code",
      "source": [
        "# コンストラクタ\n",
        "# コンストラクタの書き方\n",
        "class Product:\n",
        "  def __init__(self): # defの後はスペースが一つ入る\n",
        "    # 属性を定義する\n",
        "    self.name = \"\"\n",
        "\n",
        "# コンストラクタは必ず def init から始まり、初期化されるインスタンスそのものを指す「self」が次に、その後に初期化時に利用する引数を取ります。\n",
        "\n",
        "# selfがあることで、以下のように初期化されるインスタンスの属性に値をセットすることが可能になります。\n",
        "\n",
        "def __init__(self, name, age, gemder):\n",
        "    # self.～～～は全てこのインスタンスの属性になる\n",
        "    self.name = name\n",
        "    self.age = age\n",
        "    self.gender = gender\n",
        "\n"
      ],
      "metadata": {
        "id": "iHC8_FJ7yruJ"
      },
      "execution_count": null,
      "outputs": []
    },
    {
      "cell_type": "code",
      "source": [
        "# コンストラクタを使う\n",
        "\n",
        "# コンストラクタを使う\n",
        "\n",
        "class User:\n",
        "    # コンストラクタを定義する\n",
        "    def __init__(self, name, age, gender):\n",
        "      self.name = name\n",
        "      self.age = age\n",
        "      self.gender = gender\n",
        "\n",
        "# インスタン化する\n",
        "user = User(\"侍太郎\", 36, \"男性\")\n",
        "\n",
        "# 属性にアクセスして値を出力する\n",
        "print(user.name)\n",
        "print(user.age)\n",
        "print(user.gender)\n",
        "\n",
        "\n"
      ],
      "metadata": {
        "colab": {
          "base_uri": "https://localhost:8080/"
        },
        "id": "iflQeTuB0nok",
        "outputId": "6af1c859-6a2b-4075-c0f5-181437d3331c"
      },
      "execution_count": 2,
      "outputs": [
        {
          "output_type": "stream",
          "name": "stdout",
          "text": [
            "侍太郎\n",
            "36\n",
            "男性\n"
          ]
        }
      ]
    },
    {
      "cell_type": "code",
      "source": [
        "# kadai_015\n",
        "\n",
        "# クラスを作成\n",
        "class Human:\n",
        "    def __init__(self, name, age):\n",
        "        # 属性を定義する\n",
        "        self.name = name\n",
        "        self.age = age\n",
        "    def printinfo(self):\n",
        "        info = self.name + self.age\n",
        "        print(info)\n",
        "\n",
        "# インスタン化する\n",
        "human = Human(\"侍リンダ\", \" 90歳\")\n",
        "\n",
        "# メソッドにアクセスして出力する\n",
        "human.printinfo()"
      ],
      "metadata": {
        "colab": {
          "base_uri": "https://localhost:8080/"
        },
        "id": "dKPUvoHaHjzn",
        "outputId": "fc951141-9d07-408d-a77a-e22bacbb7c78"
      },
      "execution_count": 13,
      "outputs": [
        {
          "output_type": "stream",
          "name": "stdout",
          "text": [
            "侍リンダ 90歳\n"
          ]
        }
      ]
    }
  ]
}