{
  "nbformat": 4,
  "nbformat_minor": 0,
  "metadata": {
    "colab": {
      "provenance": [],
      "authorship_tag": "ABX9TyNsb3FlE1d+/Ih/NniAv/9a",
      "include_colab_link": true
    },
    "kernelspec": {
      "name": "python3",
      "display_name": "Python 3"
    },
    "language_info": {
      "name": "python"
    }
  },
  "cells": [
    {
      "cell_type": "markdown",
      "metadata": {
        "id": "view-in-github",
        "colab_type": "text"
      },
      "source": [
        "<a href=\"https://colab.research.google.com/github/shimomari/python-basic-kadai/blob/main/kadai_014.ipynb\" target=\"_parent\"><img src=\"https://colab.research.google.com/assets/colab-badge.svg\" alt=\"Open In Colab\"/></a>"
      ]
    },
    {
      "cell_type": "code",
      "execution_count": 1,
      "metadata": {
        "colab": {
          "base_uri": "https://localhost:8080/"
        },
        "id": "-58ZNURGxMoH",
        "outputId": "4aee59f0-e373-4284-9668-17633513848d"
      },
      "outputs": [
        {
          "output_type": "stream",
          "name": "stdout",
          "text": [
            "330.0\n",
            "330.0\n"
          ]
        }
      ],
      "source": [
        "# price1とprice2の税込合計金額を計算する\n",
        "\n",
        "# ローカル変数で計算する\n",
        "def total():\n",
        "\n",
        "  # ローカル変数を定義する\n",
        "    tax = 1.1\n",
        "    price1 = 100\n",
        "    price2 = 200\n",
        "\n",
        "    # ローカルスコープの範囲内で行いたい処理\n",
        "    total = (price1 + price2) * tax\n",
        "    print(total)\n",
        "\n",
        "total()\n",
        "\n",
        "\n",
        "# グローバル変数で計算する\n",
        "tax = 1.1\n",
        "price1 = 100\n",
        "price2 = 200\n",
        "\n",
        "# 関数を定義する\n",
        "def total():\n",
        "  total = (price1 + price2) * tax\n",
        "  print(total)\n",
        "\n",
        "total()\n",
        "\n",
        "\n",
        "\n"
      ]
    }
  ]
}