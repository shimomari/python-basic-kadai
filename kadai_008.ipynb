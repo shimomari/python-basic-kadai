{
  "nbformat": 4,
  "nbformat_minor": 0,
  "metadata": {
    "colab": {
      "provenance": [],
      "authorship_tag": "ABX9TyPe8iwlwoDwV6VveHh1Lyv3",
      "include_colab_link": true
    },
    "kernelspec": {
      "name": "python3",
      "display_name": "Python 3"
    },
    "language_info": {
      "name": "python"
    }
  },
  "cells": [
    {
      "cell_type": "markdown",
      "metadata": {
        "id": "view-in-github",
        "colab_type": "text"
      },
      "source": [
        "<a href=\"https://colab.research.google.com/github/shimomari/python-basic-kadai/blob/main/kadai_008.ipynb\" target=\"_parent\"><img src=\"https://colab.research.google.com/assets/colab-badge.svg\" alt=\"Open In Colab\"/></a>"
      ]
    },
    {
      "cell_type": "code",
      "execution_count": 34,
      "metadata": {
        "colab": {
          "base_uri": "https://localhost:8080/"
        },
        "id": "NOXY3lrGoJv-",
        "outputId": "659e5bc8-fe8f-431e-e619-e3b09f8ca37b"
      },
      "outputs": [
        {
          "output_type": "stream",
          "name": "stdout",
          "text": [
            "15\n",
            "Fizz\n",
            "Buzz\n"
          ]
        }
      ],
      "source": [
        "# 条件分岐　if、elif、else、を記述するパターン\n",
        "# （もし○○であれば●●し、そうでなくて□□であれば■■し、それ以外であれば▲▲する）\n",
        "\n",
        "# ランダムな整数を利用するために、randomモジュールをインポート\n",
        "import random\n",
        "\n",
        "# 変数varに正の整数（ここでは1から30までとする）をランダムに代入する\n",
        "var = random.randint(1, 30)\n",
        "\n",
        "# 変数の値を出力\n",
        "print(var)\n",
        "\n",
        "# 変数varが、3の倍数の場合は「Fizz」を出力,変数varが、5の倍数の場合は「Buzz」を出力\n",
        "if var % 3 == 0:\n",
        "    print(\"Fizz\")\n",
        "if var % 5 == 0:\n",
        "    print(\"Buzz\")\n",
        "\n",
        "# 変数varが、3の倍数と5の倍数の両方に該当する場合は「FizzBuzz」を出力\n",
        "elif var % 3 == 0 and var % 5 == 0:\n",
        "    print(\"FizzBuzz\")\n"
      ]
    }
  ]
}