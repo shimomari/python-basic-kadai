{
  "nbformat": 4,
  "nbformat_minor": 0,
  "metadata": {
    "colab": {
      "provenance": [],
      "authorship_tag": "ABX9TyNajOV47G8fLz6PT7qz9fCx",
      "include_colab_link": true
    },
    "kernelspec": {
      "name": "python3",
      "display_name": "Python 3"
    },
    "language_info": {
      "name": "python"
    }
  },
  "cells": [
    {
      "cell_type": "markdown",
      "metadata": {
        "id": "view-in-github",
        "colab_type": "text"
      },
      "source": [
        "<a href=\"https://colab.research.google.com/github/shimomari/python-basic-kadai/blob/main/kadai_008.ipynb\" target=\"_parent\"><img src=\"https://colab.research.google.com/assets/colab-badge.svg\" alt=\"Open In Colab\"/></a>"
      ]
    },
    {
      "cell_type": "code",
      "execution_count": 169,
      "metadata": {
        "colab": {
          "base_uri": "https://localhost:8080/"
        },
        "id": "NOXY3lrGoJv-",
        "outputId": "9b9e12d3-8bcb-49ab-a082-f5687358b67b"
      },
      "outputs": [
        {
          "output_type": "stream",
          "name": "stdout",
          "text": [
            "29\n"
          ]
        }
      ],
      "source": [
        "# 条件分岐　if、elif、else、を記述するパターン\n",
        "# （もし○○であれば●●し、そうでなくて□□であれば■■し、それ以外であれば▲▲する）\n",
        "\n",
        "# ランダムな整数を利用するために、randomモジュールをインポート\n",
        "import random\n",
        "\n",
        "# 変数varに正の整数（ここでは1から30までとする）をランダムに代入する\n",
        "var = random.randint(1, 30)\n",
        "\n",
        "# 変数の値を出力\n",
        "#print(var)\n",
        "\n",
        "# 変数varが、3の倍数と5の倍数の両方に該当する場合は「FizzBuzz」のみを出力\n",
        "if var % 3 == 0 and var % 5 == 0:\n",
        "    print(\"FizzBuzz\")\n",
        "\n",
        "# 変数varが、3の倍数の場合は「Fizz」を出力,変数varが、5の倍数の場合は「Buzz」を出力\n",
        "elif var % 3 == 0:\n",
        "    print(\"Fizz\")\n",
        "elif var % 5 == 0:\n",
        "    print(\"Buzz\")\n",
        "\n",
        "# 上記のどの場合にも該当しない場合は、変数varの値を出力\n",
        "else:\n",
        "    print(var)\n",
        "\n"
      ]
    }
  ]
}