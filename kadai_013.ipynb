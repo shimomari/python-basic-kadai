{
  "nbformat": 4,
  "nbformat_minor": 0,
  "metadata": {
    "colab": {
      "provenance": [],
      "toc_visible": true,
      "authorship_tag": "ABX9TyNXr40iw6FLyafq+PZ4AAEW",
      "include_colab_link": true
    },
    "kernelspec": {
      "name": "python3",
      "display_name": "Python 3"
    },
    "language_info": {
      "name": "python"
    }
  },
  "cells": [
    {
      "cell_type": "markdown",
      "metadata": {
        "id": "view-in-github",
        "colab_type": "text"
      },
      "source": [
        "<a href=\"https://colab.research.google.com/github/shimomari/python-basic-kadai/blob/main/kadai_013.ipynb\" target=\"_parent\"><img src=\"https://colab.research.google.com/assets/colab-badge.svg\" alt=\"Open In Colab\"/></a>"
      ]
    },
    {
      "cell_type": "code",
      "execution_count": 3,
      "metadata": {
        "colab": {
          "base_uri": "https://localhost:8080/"
        },
        "id": "IvHDaTbKXxTs",
        "outputId": "3ba87c9d-46b4-45d3-9260-a37c4a404338"
      },
      "outputs": [
        {
          "output_type": "stream",
          "name": "stdout",
          "text": [
            "税込み価格は121.0円です。\n"
          ]
        }
      ],
      "source": [
        "# 関数名　inc_tax で110円の商品の税率10%の税込価格を計算する関数を作る\n",
        "def inc_tax(price, tax):\n",
        "    total = price + price * tax / 100\n",
        "\n",
        "    print(f\"税込み価格は{total}円です。\")\n",
        "\n",
        "# 関数を呼び出し、引数として価格と税を渡す。\n",
        "inc_tax(110, 10 )\n",
        "\n"
      ]
    }
  ]
}