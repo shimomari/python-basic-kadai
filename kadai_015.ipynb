{
  "nbformat": 4,
  "nbformat_minor": 0,
  "metadata": {
    "colab": {
      "provenance": [],
      "authorship_tag": "ABX9TyP1fqzQvUHrsvzHdGmrfmFl",
      "include_colab_link": true
    },
    "kernelspec": {
      "name": "python3",
      "display_name": "Python 3"
    },
    "language_info": {
      "name": "python"
    }
  },
  "cells": [
    {
      "cell_type": "markdown",
      "metadata": {
        "id": "view-in-github",
        "colab_type": "text"
      },
      "source": [
        "<a href=\"https://colab.research.google.com/github/shimomari/python-basic-kadai/blob/main/kadai_015.ipynb\" target=\"_parent\"><img src=\"https://colab.research.google.com/assets/colab-badge.svg\" alt=\"Open In Colab\"/></a>"
      ]
    },
    {
      "cell_type": "code",
      "execution_count": null,
      "metadata": {
        "id": "8rH8pd1HWqVU"
      },
      "outputs": [],
      "source": [
        "# kadai_015\n",
        "\n",
        "# クラスを作成\n",
        "class Human:\n",
        "    def __init__(self, name, age):\n",
        "        # 属性を定義する\n",
        "        self.name = name\n",
        "        self.age = age\n",
        "\n",
        "    #  メソッドを作成する\n",
        "    def printinfo(self):\n",
        "        info = self.name + self.age\n",
        "        print(info)\n",
        "\n",
        "# インスタン化する\n",
        "human = Human(\"侍リンダ\", \" 90歳\")\n",
        "\n",
        "# メソッドにアクセスして出力する\n",
        "human.printinfo()"
      ]
    }
  ]
}