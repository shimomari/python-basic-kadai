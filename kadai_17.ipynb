{
  "nbformat": 4,
  "nbformat_minor": 0,
  "metadata": {
    "colab": {
      "provenance": [],
      "authorship_tag": "ABX9TyM84P5glMV9TmSFwAxuEUOA",
      "include_colab_link": true
    },
    "kernelspec": {
      "name": "python3",
      "display_name": "Python 3"
    },
    "language_info": {
      "name": "python"
    }
  },
  "cells": [
    {
      "cell_type": "markdown",
      "metadata": {
        "id": "view-in-github",
        "colab_type": "text"
      },
      "source": [
        "<a href=\"https://colab.research.google.com/github/shimomari/python-basic-kadai/blob/main/kadai_17.ipynb\" target=\"_parent\"><img src=\"https://colab.research.google.com/assets/colab-badge.svg\" alt=\"Open In Colab\"/></a>"
      ]
    },
    {
      "cell_type": "code",
      "execution_count": null,
      "metadata": {
        "id": "EVDKK9y-jydG"
      },
      "outputs": [],
      "source": []
    },
    {
      "cell_type": "code",
      "source": [
        "# kadai_017\n",
        "\n",
        "# クラスを作成\n",
        "class Human:\n",
        "    def __init__(self, name, age):\n",
        "        # 属性を定義する\n",
        "        self.name = name  # 属性：名前\n",
        "        self.age = age    # 属性：年齢\n",
        "  # メソッドを作る\n",
        "    def check_adult(self):\n",
        "      if self.age >= 20:\n",
        "          print(f\"{self.name}は大人です。\")\n",
        "\n",
        "      else:\n",
        "          print(f\"{self.name}は大人ではありません。\")\n",
        "\n",
        "\n",
        "#　インスタン化する\n",
        "human = Human(\"侍リンダ\", 90)\n",
        "human = Human(\"侍虎吉\", 54)\n",
        "human = Human(\"侍花子\", 28)\n",
        "human = Human(\"侍一郎\", 19)\n",
        "human = Human(\"次郎\", 14)\n",
        "human = Human(\"三郎\", 9)\n",
        "human = Human(\"いちご\", 5)\n",
        "# リストを作成\n",
        "human_members = {\"侍リンダ\": 90, \"侍虎吉\": 54, \"侍花子\": 28, \"侍一郎\": 19, \"侍次郎\": 14, \"侍三郎\": 9, \"侍いちご\": 5}\n",
        "\n",
        "# 配列 human_menbars の要素を1つずつ順番にメソッドでチェックして表示する\n",
        "for member in human_members:\n",
        "  human = Human(member, human_members[member])\n",
        "  human.check_adult()\n",
        "\n",
        "\n",
        "\n",
        "\n"
      ],
      "metadata": {
        "colab": {
          "base_uri": "https://localhost:8080/"
        },
        "id": "kn6riNwKCZAD",
        "outputId": "2b2e87e7-29ff-4f41-966e-15e1eba1ae6a"
      },
      "execution_count": null,
      "outputs": [
        {
          "output_type": "stream",
          "name": "stdout",
          "text": [
            "侍リンダは大人です。\n",
            "侍虎吉は大人です。\n",
            "侍花子は大人です。\n",
            "侍一郎は大人ではありません。\n",
            "侍次郎は大人ではありません。\n",
            "侍三郎は大人ではありません。\n",
            "侍いちごは大人ではありません。\n"
          ]
        }
      ]
    }
  ]
}